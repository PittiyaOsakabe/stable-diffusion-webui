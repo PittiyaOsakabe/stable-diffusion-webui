{
  "nbformat": 4,
  "nbformat_minor": 0,
  "metadata": {
    "colab": {
      "provenance": [],
      "authorship_tag": "ABX9TyOQLy0eR4JwxjZh+a4LAOkX",
      "include_colab_link": true
    },
    "kernelspec": {
      "name": "python3",
      "display_name": "Python 3"
    },
    "language_info": {
      "name": "python"
    }
  },
  "cells": [
    {
      "cell_type": "markdown",
      "metadata": {
        "id": "view-in-github",
        "colab_type": "text"
      },
      "source": [
        "<a href=\"https://colab.research.google.com/github/PittiyaOsakabe/stable-diffusion-webui/blob/master/Untitled2.ipynb\" target=\"_parent\"><img src=\"https://colab.research.google.com/assets/colab-badge.svg\" alt=\"Open In Colab\"/></a>"
      ]
    },
    {
      "cell_type": "code",
      "execution_count": null,
      "metadata": {
        "id": "3vRKElPb8CRC"
      },
      "outputs": [],
      "source": [
        "@echo off\n",
        "\n",
        "if not defined PYTHON (set PYTHON=C:\\Users\\user\\AppData\\Local\\Programs\\Python\\Python310)\n",
        "if not defined VENV_DIR (set \"VENV_DIR=%~dp0%venv\")\n",
        "\n",
        "\n",
        "set ERROR_REPORTING=FALSE\n",
        "\n",
        "mkdir tmp 2>NUL\n",
        "\n",
        "%PYTHON% -c \"\" >tmp/stdout.txt 2>tmp/stderr.txt\n",
        "if %ERRORLEVEL% == 0 goto :check_pip\n",
        "echo Couldn't launch python\n",
        "goto :show_stdout_stderr\n",
        "\n",
        ":check_pip\n",
        "%PYTHON% -mpip --help >tmp/stdout.txt 2>tmp/stderr.txt\n",
        "if %ERRORLEVEL% == 0 goto :start_venv\n",
        "if \"%PIP_INSTALLER_LOCATION%\" == \"\" goto :show_stdout_stderr\n",
        "%PYTHON% \"%PIP_INSTALLER_LOCATION%\" >tmp/stdout.txt 2>tmp/stderr.txt\n",
        "if %ERRORLEVEL% == 0 goto :start_venv\n",
        "echo Couldn't install pip\n",
        "goto :show_stdout_stderr\n",
        "\n",
        ":start_venv\n",
        "if [\"%VENV_DIR%\"] == [\"-\"] goto :skip_venv\n",
        "if [\"%SKIP_VENV%\"] == [\"1\"] goto :skip_venv\n",
        "\n",
        "dir \"%VENV_DIR%\\Scripts\\Python.exe\" >tmp/stdout.txt 2>tmp/stderr.txt\n",
        "if %ERRORLEVEL% == 0 goto :activate_venv\n",
        "\n",
        "for /f \"delims=\" %%i in ('CALL %PYTHON% -c \"import sys; print(sys.executable)\"') do set PYTHON_FULLNAME=\"%%i\"\n",
        "echo Creating venv in directory %VENV_DIR% using python %PYTHON_FULLNAME%\n",
        "%PYTHON_FULLNAME% -m venv \"%VENV_DIR%\" >tmp/stdout.txt 2>tmp/stderr.txt\n",
        "if %ERRORLEVEL% == 0 goto :activate_venv\n",
        "echo Unable to create venv in directory \"%VENV_DIR%\"\n",
        "goto :show_stdout_stderr\n",
        "\n",
        ":activate_venv\n",
        "set PYTHON=\"%VENV_DIR%\\Scripts\\Python.exe\"\n",
        "echo venv %PYTHON%\n",
        "\n",
        ":skip_venv\n",
        "if [%ACCELERATE%] == [\"True\"] goto :accelerate\n",
        "goto :launch\n",
        "\n",
        ":accelerate\n",
        "echo Checking for accelerate\n",
        "set ACCELERATE=\"%VENV_DIR%\\Scripts\\accelerate.exe\"\n",
        "if EXIST %ACCELERATE% goto :accelerate_launch\n",
        "\n",
        ":launch\n",
        "%PYTHON% launch.py %*\n",
        "pause\n",
        "exit /b\n",
        "\n",
        ":accelerate_launch\n",
        "echo Accelerating\n",
        "%ACCELERATE% launch --num_cpu_threads_per_process=6 launch.py\n",
        "pause\n",
        "exit /b\n",
        "\n",
        ":show_stdout_stderr\n",
        "\n",
        "echo.\n",
        "echo exit code: %errorlevel%\n",
        "\n",
        "for /f %%i in (\"tmp\\stdout.txt\") do set size=%%~zi\n",
        "if %size% equ 0 goto :show_stderr\n",
        "echo.\n",
        "echo stdout:\n",
        "type tmp\\stdout.txt\n",
        "\n",
        ":show_stderr\n",
        "for /f %%i in (\"tmp\\stderr.txt\") do set size=%%~zi\n",
        "if %size% equ 0 goto :show_stderr\n",
        "echo.\n",
        "echo stderr:\n",
        "type tmp\\stderr.txt\n",
        "\n",
        ":endofscript\n",
        "\n",
        "echo.\n",
        "echo Launch unsuccessful. Exiting.\n",
        "pause"
      ]
    }
  ]
}